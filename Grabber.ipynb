{
 "cells": [
  {
   "cell_type": "markdown",
   "metadata": {},
   "source": [
    "# IMPORTING LIBS"
   ]
  },
  {
   "cell_type": "code",
   "execution_count": 21,
   "metadata": {},
   "outputs": [],
   "source": [
    "import pyautogui as pg\n",
    "from tkinter import*\n",
    "import cv2\n",
    "import pytesseract\n",
    "from pynput import mouse\n",
    "from time import sleep\n",
    "import pandas as pd\n",
    "from PIL import ImageFilter , ImageEnhance, Image\n",
    "import subprocess as sp\n",
    "from fpdf import FPDF"
   ]
  },
  {
   "cell_type": "markdown",
   "metadata": {},
   "source": [
    "# INITIALISING PYTESSERACT"
   ]
  },
  {
   "cell_type": "code",
   "execution_count": 22,
   "metadata": {},
   "outputs": [],
   "source": [
    "pytesseract.pytesseract.tesseract_cmd = 'C:\\\\Users\\\\ponnu\\\\AppData\\\\Local\\\\Programs\\\\Tesseract-OCR\\\\tesseract.exe'"
   ]
  },
  {
   "cell_type": "markdown",
   "metadata": {},
   "source": [
    "# FUNCTION TO GRAB TEXT"
   ]
  },
  {
   "cell_type": "code",
   "execution_count": 23,
   "metadata": {},
   "outputs": [],
   "source": [
    "def grabber():\n",
    "    \n",
    "    sleep(1)\n",
    "    \n",
    "    \n",
    "    \n",
    "    \n",
    "    \n",
    "    # MOUSELOGGING\n",
    "    global X , Y\n",
    "    X = []\n",
    "    Y = []\n",
    "    \n",
    "    \n",
    "   # DEFINING THE CLICK FUNCTION TO READ COORDINATES\n",
    "\n",
    "    def on_click(x, y, button, pressed):\n",
    "        global z,X,Y\n",
    "\n",
    "        z+= 1\n",
    "        if z!= 4:\n",
    "            \n",
    "            X.append(x)\n",
    "            Y.append(y)\n",
    "        else:\n",
    "            return False\n",
    "\n",
    "\n",
    "\n",
    "    \n",
    "\n",
    "    global z\n",
    "    z= 0\n",
    "    listener = mouse.Listener(\n",
    "    on_click=on_click)\n",
    "    listener.start()\n",
    "\n",
    "\n",
    "\n",
    "\n",
    "\n",
    "    while (z != 4):    \n",
    "        sleep(0.01)\n",
    "\n",
    "\n",
    "\n",
    "\n",
    "\n",
    "    # TAKING SCREENSHOT\n",
    "\n",
    "    img = pg.screenshot('img.jpg',region=(X[1],Y[1],X[2] -X[1] ,Y[2]-Y[1] ))\n",
    "#     img = ImageGrab.grab(bbox = (X[1],Y[1],X[2]-X[1],Y[2]-Y[1]))\n",
    "#     img.save(\"img.jpeg\",quality = 100)\n",
    "\n",
    "\n",
    "    \n",
    "    \n",
    "        \n",
    "    # ENHANSING THE RESOLUTION\n",
    "    \n",
    "    img = Image.open('C:\\\\Users\\\\ponnu\\\\img.jpg')\n",
    "    detail_img = img.filter(ImageFilter.DETAIL)\n",
    "    en_img = ImageEnhance.Contrast(detail_img)\n",
    "    en_img = en_img.enhance(1.8) \n",
    "    en_img.save(\"en_img.jpg\",quality = 100)\n",
    "    #img = cv2.cvtColor(img,cv2.COLOR_BGR2GRAY)\n",
    "    # ret, th = cv2.threshold(img, 0 , 255, cv2.THRESH_BINARY + cv2.THRESH_OTSU)\n",
    "    # cv2.imwrite(\"enimg.jpg\",th)\n",
    "\n",
    "    \n",
    "\n",
    "    \n",
    "    \n",
    "    # OPENING THE IMAGE WITH OPENCV\n",
    "    \n",
    "    imgx = cv2.imread('C:\\\\Users\\\\ponnu\\\\en_img.jpg')\n",
    "    \n",
    "    \n",
    "    \n",
    "    \n",
    "    # GETTING THE SHAPE OF THE IMAGE\n",
    "    \n",
    "    global height, width\n",
    "    height, width, _ = imgx.shape\n",
    "    \n",
    "\n",
    "    \n",
    "    \n",
    "    # CONVERTING TO TEXT\n",
    "    global text\n",
    "    hImg, wImg,_ = imgx.shape\n",
    "    text = pytesseract.image_to_string(imgx)\n",
    "    \n",
    "\n",
    "     \n",
    "        \n",
    "    # TOGGLE BETWEEN EXACT AND CONTINUOUS\n",
    "    global exact\n",
    "    if exact == 0:\n",
    "        text = text.replace(\"\\n\",\" \")\n",
    "\n",
    "\n",
    "\n",
    "\n",
    "\n",
    "    # COPY TEXT TO CLIPBOARD\n",
    "\n",
    "    df = pd.DataFrame([text])\n",
    "    df.to_clipboard(index = False, header = False)\n",
    "    "
   ]
  },
  {
   "cell_type": "markdown",
   "metadata": {},
   "source": [
    "# FUNCTION TO WRITE THE TEXT TO TXT FILE & OPEN IT IN NOTEPAD"
   ]
  },
  {
   "cell_type": "code",
   "execution_count": 24,
   "metadata": {},
   "outputs": [],
   "source": [
    "def note():\n",
    "        \n",
    "    global text\n",
    "    f = open(\"D:\\\\learn\\\\test\\\\screenshot.txt\",\"w\")\n",
    "    f.write(text)\n",
    "    f.close()\n",
    "    \n",
    "    \n",
    "    \n",
    "    sleep(1)\n",
    "    \n",
    "    # OPEN TEXT IN NOTEPAD\n",
    "    \n",
    "    prog_name = \"notepad.exe\"\n",
    "    file_name = \"D:\\\\learn\\\\test\\\\screenshot.txt\"\n",
    "    sp.Popen([prog_name, file_name])"
   ]
  },
  {
   "cell_type": "markdown",
   "metadata": {},
   "source": [
    "# FUNCTION TO CONVERT TEXT INTO PDF FILE"
   ]
  },
  {
   "cell_type": "code",
   "execution_count": 25,
   "metadata": {},
   "outputs": [],
   "source": [
    "def pdf():\n",
    "    \n",
    "    global height, width\n",
    "    pdf = FPDF(orientation = 'p', unit = 'mm', format= 'A4')\n",
    "    pdf.add_page()\n",
    "    #pdf.set_font(\"Arial\", size = 12)\n",
    "    #pdf.cell(200,100, txt = text, ln = 1, align = \"L\")\n",
    "    pdf.image('C:\\\\Users\\\\ponnu\\\\en_img.jpg', 0, 0, width, height)\n",
    "    pdf.output(\"text.pdf\")"
   ]
  },
  {
   "cell_type": "markdown",
   "metadata": {},
   "source": [
    "# FUNCTION TO DISPLAY THE SCREENSHOT"
   ]
  },
  {
   "cell_type": "code",
   "execution_count": 26,
   "metadata": {},
   "outputs": [],
   "source": [
    "def show():\n",
    "    \n",
    "    img = Image.open('C:\\\\Users\\\\ponnu\\\\en_img.jpg')\n",
    "    img.show()"
   ]
  },
  {
   "cell_type": "markdown",
   "metadata": {},
   "source": [
    "# FUNCTION TO TOGGLE \\N"
   ]
  },
  {
   "cell_type": "code",
   "execution_count": 27,
   "metadata": {},
   "outputs": [],
   "source": [
    "def toggle():\n",
    "\n",
    "    global exact, nam\n",
    "    exact = (1-exact) * 1\n",
    "    \n",
    "    if exact == 1:\n",
    "        nam = \"Exact\"\n",
    "    else:\n",
    "        nam = \"Continuous\""
   ]
  },
  {
   "cell_type": "markdown",
   "metadata": {},
   "source": [
    "# SET UP TKINTER WINDOW"
   ]
  },
  {
   "cell_type": "code",
   "execution_count": 29,
   "metadata": {},
   "outputs": [],
   "source": [
    "root = Tk()\n",
    "\n",
    "global exact, nam\n",
    "exact = 1\n",
    "if exact == 1:\n",
    "    nam = \"Exact\"\n",
    "    \n",
    "button1 = Button(root,text= \"Grab it..\",command = grabber)\n",
    "button1.pack()\n",
    "button2 = Button(root,text= \"VIEW\",command = show)\n",
    "button2.pack()\n",
    "button3 = Button(root,text= \"EDIT\",command = note)\n",
    "button3.pack()\n",
    "button4 = Button(root,text= \"PDF\",command = pdf)\n",
    "button4.pack()\n",
    "button6 = Button(root,text= nam ,command = toggle)\n",
    "button6.pack()\n",
    "button5 = Button(root,text= \"Quit\" ,command = root.destroy)\n",
    "button5.pack()\n",
    "\n",
    "root.mainloop()"
   ]
  }
 ],
 "metadata": {
  "kernelspec": {
   "display_name": "Python 3",
   "language": "python",
   "name": "python3"
  },
  "language_info": {
   "codemirror_mode": {
    "name": "ipython",
    "version": 3
   },
   "file_extension": ".py",
   "mimetype": "text/x-python",
   "name": "python",
   "nbconvert_exporter": "python",
   "pygments_lexer": "ipython3",
   "version": "3.8.3"
  }
 },
 "nbformat": 4,
 "nbformat_minor": 4
}
